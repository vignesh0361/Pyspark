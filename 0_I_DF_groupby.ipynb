{
  "nbformat": 4,
  "nbformat_minor": 0,
  "metadata": {
    "colab": {
      "provenance": [],
      "authorship_tag": "ABX9TyObS0f+j76JGt+8q6fntMEd",
      "include_colab_link": true
    },
    "kernelspec": {
      "name": "python3",
      "display_name": "Python 3"
    },
    "language_info": {
      "name": "python"
    }
  },
  "cells": [
    {
      "cell_type": "markdown",
      "metadata": {
        "id": "view-in-github",
        "colab_type": "text"
      },
      "source": [
        "<a href=\"https://colab.research.google.com/github/vignesh0361/Pyspark/blob/main/0_I_DF_groupby.ipynb\" target=\"_parent\"><img src=\"https://colab.research.google.com/assets/colab-badge.svg\" alt=\"Open In Colab\"/></a>"
      ]
    },
    {
      "cell_type": "code",
      "execution_count": 1,
      "metadata": {
        "id": "DOOOMl-KTTYi"
      },
      "outputs": [],
      "source": [
        "from pyspark.sql import SparkSession\n",
        "spark = SparkSession.builder.getOrCreate()\n",
        "\n",
        "sample_df = spark.createDataFrame([\n",
        "    (1, \"New Orleans\", \"Louisisna\", \"USA\", \"Fav city\"),\n",
        "    (2, \"New York City\", None, None, None),\n",
        "    (3, \"Baton Rouge\", \"Louisisna\", \"USA\", \"Heart\"),\n",
        "    (4, \"Coimbatore\", \"Tamil Nadu\", None, \"Mind\"),\n",
        "    (5, \"Ooty\", \"Tamil Nadu\", \"India\", \"Soul\"),\n",
        "    (None, \"New Orleans\", \"Louisisna\", \"USA\", None)\n",
        "    ], [\"ID\", \"City\", \"State\", \"Country\", \"Comments\"])"
      ]
    },
    {
      "cell_type": "code",
      "source": [
        "sample_df.groupBy(\"Country\").sum(\"ID\").show()"
      ],
      "metadata": {
        "colab": {
          "base_uri": "https://localhost:8080/"
        },
        "id": "-WfLG8IOTUXJ",
        "outputId": "e2d0f434-5f41-4c80-e29d-1b9cb4723723"
      },
      "execution_count": 2,
      "outputs": [
        {
          "output_type": "stream",
          "name": "stdout",
          "text": [
            "+-------+-------+\n",
            "|Country|sum(ID)|\n",
            "+-------+-------+\n",
            "|   NULL|      6|\n",
            "|    USA|      4|\n",
            "|  India|      5|\n",
            "+-------+-------+\n",
            "\n"
          ]
        }
      ]
    },
    {
      "cell_type": "code",
      "source": [
        "from pyspark.sql.window import Window\n",
        "import pyspark.sql.functions as F\n",
        "#\n",
        "window = Window.partitionBy(\"Country\").orderBy(F.col(\"ID\").desc())\n",
        "s_df = sample_df.withColumn(\"rank\", F.rank().over(window))\n",
        "s_df.na.fill(\"unknown\").show()"
      ],
      "metadata": {
        "colab": {
          "base_uri": "https://localhost:8080/"
        },
        "id": "R6LB51HyTnfg",
        "outputId": "dec6e21c-f8fb-4441-bff7-69256e975c10"
      },
      "execution_count": 7,
      "outputs": [
        {
          "output_type": "stream",
          "name": "stdout",
          "text": [
            "+----+-------------+----------+-------+--------+----+\n",
            "|  ID|         City|     State|Country|Comments|rank|\n",
            "+----+-------------+----------+-------+--------+----+\n",
            "|   4|   Coimbatore|Tamil Nadu|unknown|    Mind|   1|\n",
            "|   2|New York City|   unknown|unknown| unknown|   2|\n",
            "|   5|         Ooty|Tamil Nadu|  India|    Soul|   1|\n",
            "|   3|  Baton Rouge| Louisisna|    USA|   Heart|   1|\n",
            "|   1|  New Orleans| Louisisna|    USA|Fav city|   2|\n",
            "|NULL|  New Orleans| Louisisna|    USA| unknown|   3|\n",
            "+----+-------------+----------+-------+--------+----+\n",
            "\n"
          ]
        }
      ]
    }
  ]
}