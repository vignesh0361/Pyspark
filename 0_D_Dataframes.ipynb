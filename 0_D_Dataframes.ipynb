{
  "nbformat": 4,
  "nbformat_minor": 0,
  "metadata": {
    "colab": {
      "provenance": [],
      "authorship_tag": "ABX9TyMAv6VUR+RdZ6QIDNB1Q2j5",
      "include_colab_link": true
    },
    "kernelspec": {
      "name": "python3",
      "display_name": "Python 3"
    },
    "language_info": {
      "name": "python"
    }
  },
  "cells": [
    {
      "cell_type": "markdown",
      "metadata": {
        "id": "view-in-github",
        "colab_type": "text"
      },
      "source": [
        "<a href=\"https://colab.research.google.com/github/vignesh0361/Pyspark/blob/main/0_D_Dataframes.ipynb\" target=\"_parent\"><img src=\"https://colab.research.google.com/assets/colab-badge.svg\" alt=\"Open In Colab\"/></a>"
      ]
    },
    {
      "cell_type": "markdown",
      "source": [
        "**DataFrame **is a distributed collection of data organized into named columns. It is conceptually equivalent to a table in a relational database or a data frame in R/Python, but with richer optimizations under the hood. DataFrames can be constructed from a wide array of sources such as structured data files, tables in Hive, external databases, or existing RDDs."
      ],
      "metadata": {
        "id": "YBAUyln5kVrM"
      }
    },
    {
      "cell_type": "markdown",
      "source": [
        "**Creating a basic DF with some data**\n",
        "\n",
        "\n",
        "\n"
      ],
      "metadata": {
        "id": "tdEkJ8mJ3FBN"
      }
    },
    {
      "cell_type": "code",
      "execution_count": null,
      "metadata": {
        "id": "a1n2i7aa0I4F"
      },
      "outputs": [],
      "source": [
        "from pyspark.sql import SparkSession\n",
        "spark = SparkSession.builder.getOrCreate()\n",
        "\n",
        "df = spark.createDataFrame(\n",
        "    [(14, \"Tom\"), (23, \"Alice\"), (16, \"Bob\")],\n",
        "     [\"age\", \"name\"]\n",
        "    )"
      ]
    },
    {
      "cell_type": "code",
      "source": [
        "df.printSchema()  # Shows the cols, datatype and nullable or not"
      ],
      "metadata": {
        "colab": {
          "base_uri": "https://localhost:8080/"
        },
        "id": "YBJyNM5SkleF",
        "outputId": "46d00e64-1f5f-43de-d121-bf5d6a9160c5"
      },
      "execution_count": null,
      "outputs": [
        {
          "output_type": "stream",
          "name": "stdout",
          "text": [
            "root\n",
            " |-- age: long (nullable = true)\n",
            " |-- name: string (nullable = true)\n",
            "\n"
          ]
        }
      ]
    },
    {
      "cell_type": "code",
      "source": [
        "df.show()  # Shows the first 20 data in the DF"
      ],
      "metadata": {
        "colab": {
          "base_uri": "https://localhost:8080/"
        },
        "id": "wA3PD8oCk7uK",
        "outputId": "ac2b0cd1-b96c-43eb-92d4-ae72052e4492"
      },
      "execution_count": null,
      "outputs": [
        {
          "output_type": "stream",
          "name": "stdout",
          "text": [
            "+---+-----+\n",
            "|age| name|\n",
            "+---+-----+\n",
            "| 14|  Tom|\n",
            "| 23|Alice|\n",
            "| 16|  Bob|\n",
            "+---+-----+\n",
            "\n"
          ]
        }
      ]
    },
    {
      "cell_type": "markdown",
      "source": [
        "**Selecting from dataframe**"
      ],
      "metadata": {
        "id": "9h2AoFHT4KNl"
      }
    },
    {
      "cell_type": "code",
      "source": [
        "df.select(df.name, df.age).show()"
      ],
      "metadata": {
        "colab": {
          "base_uri": "https://localhost:8080/"
        },
        "id": "gNrAEpfF3DU7",
        "outputId": "6cf96eda-9b77-41fc-ea87-270a45ee47cd"
      },
      "execution_count": null,
      "outputs": [
        {
          "output_type": "stream",
          "name": "stdout",
          "text": [
            "+-----+---+\n",
            "| name|age|\n",
            "+-----+---+\n",
            "|  Tom| 14|\n",
            "|Alice| 23|\n",
            "|  Bob| 16|\n",
            "+-----+---+\n",
            "\n"
          ]
        }
      ]
    },
    {
      "cell_type": "markdown",
      "source": [
        "**Filtering from the DF**"
      ],
      "metadata": {
        "id": "ogAmBGdb4Uuf"
      }
    },
    {
      "cell_type": "code",
      "source": [
        "df.filter((df.age>15) & (df.name.contains(\"o\"))).show()"
      ],
      "metadata": {
        "colab": {
          "base_uri": "https://localhost:8080/"
        },
        "id": "chNjThk24XPy",
        "outputId": "3413b24c-a8af-4afd-c0c3-267814f6f9cd"
      },
      "execution_count": null,
      "outputs": [
        {
          "output_type": "stream",
          "name": "stdout",
          "text": [
            "+---+----+\n",
            "|age|name|\n",
            "+---+----+\n",
            "| 16| Bob|\n",
            "+---+----+\n",
            "\n"
          ]
        }
      ]
    },
    {
      "cell_type": "markdown",
      "source": [
        "**Describing the DF**\n",
        "\n",
        "\n",
        "\n"
      ],
      "metadata": {
        "id": "3YCfvWo24wI6"
      }
    },
    {
      "cell_type": "code",
      "source": [
        "df.describe().show()"
      ],
      "metadata": {
        "colab": {
          "base_uri": "https://localhost:8080/"
        },
        "id": "adtVrqQT40lW",
        "outputId": "2c7af92d-29ea-4b95-8cc7-7c33969141a7"
      },
      "execution_count": null,
      "outputs": [
        {
          "output_type": "stream",
          "name": "stdout",
          "text": [
            "+-------+------------------+-----+\n",
            "|summary|               age| name|\n",
            "+-------+------------------+-----+\n",
            "|  count|                 3|    3|\n",
            "|   mean|17.666666666666668| NULL|\n",
            "| stddev| 4.725815626252608| NULL|\n",
            "|    min|                14|Alice|\n",
            "|    max|                23|  Tom|\n",
            "+-------+------------------+-----+\n",
            "\n"
          ]
        }
      ]
    },
    {
      "cell_type": "markdown",
      "source": [
        "**Using withColumn to create a new column**\n"
      ],
      "metadata": {
        "id": "-XegDDds8L_3"
      }
    },
    {
      "cell_type": "code",
      "source": [
        "df.withColumn(\"age\",df.age+1).show()"
      ],
      "metadata": {
        "colab": {
          "base_uri": "https://localhost:8080/"
        },
        "id": "GVXITHQC5BSF",
        "outputId": "555da779-c9c3-44d5-802b-cae0e20d2435"
      },
      "execution_count": null,
      "outputs": [
        {
          "output_type": "stream",
          "name": "stdout",
          "text": [
            "+---+-----+\n",
            "|age| name|\n",
            "+---+-----+\n",
            "| 15|  Tom|\n",
            "| 24|Alice|\n",
            "| 17|  Bob|\n",
            "+---+-----+\n",
            "\n"
          ]
        }
      ]
    },
    {
      "cell_type": "markdown",
      "source": [
        "**Using withColumn to create a new column**\n"
      ],
      "metadata": {
        "id": "kzDHIjGJ8S7h"
      }
    },
    {
      "cell_type": "code",
      "source": [
        "from pyspark.sql.functions import when\n",
        "df.withColumn(\"type\", when(df.age <= 15, \"kid\").otherwise(\"adult\")).show()"
      ],
      "metadata": {
        "colab": {
          "base_uri": "https://localhost:8080/"
        },
        "id": "Q8f_VB0j8ZNr",
        "outputId": "13ee46e7-9d3d-478f-9c17-500fbd47e278"
      },
      "execution_count": null,
      "outputs": [
        {
          "output_type": "stream",
          "name": "stdout",
          "text": [
            "+---+-----+-----+\n",
            "|age| name| type|\n",
            "+---+-----+-----+\n",
            "| 14|  Tom|  kid|\n",
            "| 23|Alice|adult|\n",
            "| 16|  Bob|adult|\n",
            "+---+-----+-----+\n",
            "\n"
          ]
        }
      ]
    },
    {
      "cell_type": "code",
      "source": [
        "people = spark.createDataFrame([\n",
        "    {\"deptId\": 1, \"age\": 40, \"name\": \"Hyukjin Kwon\", \"gender\": \"M\", \"salary\": 50},\n",
        "    {\"deptId\": 1, \"age\": 50, \"name\": \"Takuya Ueshin\", \"gender\": \"M\", \"salary\": 100},\n",
        "    {\"deptId\": 2, \"age\": 60, \"name\": \"Xinrong Meng\", \"gender\": \"F\", \"salary\": 150},\n",
        "    {\"deptId\": 3, \"age\": 20, \"name\": \"Haejoon Lee\", \"gender\": \"M\", \"salary\": 200}\n",
        "])"
      ],
      "metadata": {
        "id": "L81to5FiCmsy"
      },
      "execution_count": null,
      "outputs": []
    },
    {
      "cell_type": "code",
      "source": [
        "display(people)"
      ],
      "metadata": {
        "colab": {
          "base_uri": "https://localhost:8080/",
          "height": 35
        },
        "id": "GesIue7mCqDV",
        "outputId": "e51465ab-1f93-44d1-bf66-dbef4cd53813"
      },
      "execution_count": null,
      "outputs": [
        {
          "output_type": "display_data",
          "data": {
            "text/plain": [
              "DataFrame[age: bigint, deptId: bigint, gender: string, name: string, salary: bigint]"
            ]
          },
          "metadata": {}
        }
      ]
    },
    {
      "cell_type": "code",
      "source": [
        "people.show()"
      ],
      "metadata": {
        "colab": {
          "base_uri": "https://localhost:8080/"
        },
        "id": "gxvvYW0gC1Fi",
        "outputId": "fedd876e-9fa9-46b8-8340-9f177ffb6b92"
      },
      "execution_count": null,
      "outputs": [
        {
          "output_type": "stream",
          "name": "stdout",
          "text": [
            "+---+------+------+-------------+------+\n",
            "|age|deptId|gender|         name|salary|\n",
            "+---+------+------+-------------+------+\n",
            "| 40|     1|     M| Hyukjin Kwon|    50|\n",
            "| 50|     1|     M|Takuya Ueshin|   100|\n",
            "| 60|     2|     F| Xinrong Meng|   150|\n",
            "| 20|     3|     M|  Haejoon Lee|   200|\n",
            "+---+------+------+-------------+------+\n",
            "\n"
          ]
        }
      ]
    },
    {
      "cell_type": "markdown",
      "source": [
        "https://sparkbyexamples.com/spark/spark-dataframe-withcolumn/"
      ],
      "metadata": {
        "id": "BilD0PatmN4c"
      }
    },
    {
      "cell_type": "code",
      "source": [
        "df_cal = spark.read.csv(\"/content/sample_data/california_housing_train.csv\")\n",
        "df_cal.show()\n",
        "df_cal.printSchema()"
      ],
      "metadata": {
        "colab": {
          "base_uri": "https://localhost:8080/"
        },
        "id": "Yl5YsDxPmXM5",
        "outputId": "a940e90f-9590-4390-ad84-7e239ab6584d"
      },
      "execution_count": null,
      "outputs": [
        {
          "output_type": "stream",
          "name": "stdout",
          "text": [
            "+-----------+---------+------------------+-----------+--------------+-----------+-----------+-------------+------------------+\n",
            "|        _c0|      _c1|               _c2|        _c3|           _c4|        _c5|        _c6|          _c7|               _c8|\n",
            "+-----------+---------+------------------+-----------+--------------+-----------+-----------+-------------+------------------+\n",
            "|  longitude| latitude|housing_median_age|total_rooms|total_bedrooms| population| households|median_income|median_house_value|\n",
            "|-114.310000|34.190000|         15.000000|5612.000000|   1283.000000|1015.000000| 472.000000|     1.493600|      66900.000000|\n",
            "|-114.470000|34.400000|         19.000000|7650.000000|   1901.000000|1129.000000| 463.000000|     1.820000|      80100.000000|\n",
            "|-114.560000|33.690000|         17.000000| 720.000000|    174.000000| 333.000000| 117.000000|     1.650900|      85700.000000|\n",
            "|-114.570000|33.640000|         14.000000|1501.000000|    337.000000| 515.000000| 226.000000|     3.191700|      73400.000000|\n",
            "|-114.570000|33.570000|         20.000000|1454.000000|    326.000000| 624.000000| 262.000000|     1.925000|      65500.000000|\n",
            "|-114.580000|33.630000|         29.000000|1387.000000|    236.000000| 671.000000| 239.000000|     3.343800|      74000.000000|\n",
            "|-114.580000|33.610000|         25.000000|2907.000000|    680.000000|1841.000000| 633.000000|     2.676800|      82400.000000|\n",
            "|-114.590000|34.830000|         41.000000| 812.000000|    168.000000| 375.000000| 158.000000|     1.708300|      48500.000000|\n",
            "|-114.590000|33.610000|         34.000000|4789.000000|   1175.000000|3134.000000|1056.000000|     2.178200|      58400.000000|\n",
            "|-114.600000|34.830000|         46.000000|1497.000000|    309.000000| 787.000000| 271.000000|     2.190800|      48100.000000|\n",
            "|-114.600000|33.620000|         16.000000|3741.000000|    801.000000|2434.000000| 824.000000|     2.679700|      86500.000000|\n",
            "|-114.600000|33.600000|         21.000000|1988.000000|    483.000000|1182.000000| 437.000000|     1.625000|      62000.000000|\n",
            "|-114.610000|34.840000|         48.000000|1291.000000|    248.000000| 580.000000| 211.000000|     2.157100|      48600.000000|\n",
            "|-114.610000|34.830000|         31.000000|2478.000000|    464.000000|1346.000000| 479.000000|     3.212000|      70400.000000|\n",
            "|-114.630000|32.760000|         15.000000|1448.000000|    378.000000| 949.000000| 300.000000|     0.858500|      45000.000000|\n",
            "|-114.650000|34.890000|         17.000000|2556.000000|    587.000000|1005.000000| 401.000000|     1.699100|      69100.000000|\n",
            "|-114.650000|33.600000|         28.000000|1678.000000|    322.000000| 666.000000| 256.000000|     2.965300|      94900.000000|\n",
            "|-114.650000|32.790000|         21.000000|  44.000000|     33.000000|  64.000000|  27.000000|     0.857100|      25000.000000|\n",
            "|-114.660000|32.740000|         17.000000|1388.000000|    386.000000| 775.000000| 320.000000|     1.204900|      44000.000000|\n",
            "+-----------+---------+------------------+-----------+--------------+-----------+-----------+-------------+------------------+\n",
            "only showing top 20 rows\n",
            "\n",
            "root\n",
            " |-- _c0: string (nullable = true)\n",
            " |-- _c1: string (nullable = true)\n",
            " |-- _c2: string (nullable = true)\n",
            " |-- _c3: string (nullable = true)\n",
            " |-- _c4: string (nullable = true)\n",
            " |-- _c5: string (nullable = true)\n",
            " |-- _c6: string (nullable = true)\n",
            " |-- _c7: string (nullable = true)\n",
            " |-- _c8: string (nullable = true)\n",
            "\n"
          ]
        }
      ]
    },
    {
      "cell_type": "code",
      "source": [
        "from re import S\n",
        "from pyspark.sql.functions import col, lit\n",
        "from pyspark.sql.types import StructField, StringType, FloatType, IntegerType, StructType, DateType, DecimalType\n",
        "\n",
        "df_cal_schema = StructType([\n",
        "    StructField(\"longitude\", FloatType(), True),\n",
        "    StructField(\"latitude\", FloatType(), True),\n",
        "    StructField(\"housing_median_age\", DecimalType(), True),\n",
        "    StructField(\"total_rooms\", DecimalType(), True),\n",
        "    StructField(\"total_bedrooms\", DecimalType(), True),\n",
        "    StructField(\"population\", DecimalType(), True),\n",
        "    StructField(\"households\", DecimalType(), True),\n",
        "    StructField(\"median_income\", FloatType(), True),\n",
        "    StructField(\"median_house_value\", DecimalType(), True)\n",
        "])\n",
        "\n",
        "df_cal = spark.read.csv(\"/content/sample_data/california_housing_train.csv\", schema=df_cal_schema)\n",
        "display(df_cal)"
      ],
      "metadata": {
        "colab": {
          "base_uri": "https://localhost:8080/",
          "height": 72
        },
        "id": "Q2uX5g3unEBw",
        "outputId": "de8b4b5e-29cc-4d72-cae7-11767aabea72"
      },
      "execution_count": null,
      "outputs": [
        {
          "output_type": "display_data",
          "data": {
            "text/plain": [
              "DataFrame[longitude: float, latitude: float, housing_median_age: decimal(10,0), total_rooms: decimal(10,0), total_bedrooms: decimal(10,0), population: decimal(10,0), households: decimal(10,0), median_income: float, median_house_value: decimal(10,0)]"
            ]
          },
          "metadata": {}
        }
      ]
    },
    {
      "cell_type": "code",
      "source": [
        "df_cal.show()"
      ],
      "metadata": {
        "colab": {
          "base_uri": "https://localhost:8080/"
        },
        "id": "7jeT9Lh_onL-",
        "outputId": "001a2385-4d65-46b3-ea03-155222c7cf71"
      },
      "execution_count": null,
      "outputs": [
        {
          "output_type": "stream",
          "name": "stdout",
          "text": [
            "+---------+--------+------------------+-----------+--------------+----------+----------+-------------+------------------+\n",
            "|longitude|latitude|housing_median_age|total_rooms|total_bedrooms|population|households|median_income|median_house_value|\n",
            "+---------+--------+------------------+-----------+--------------+----------+----------+-------------+------------------+\n",
            "|     NULL|    NULL|              NULL|       NULL|          NULL|      NULL|      NULL|         NULL|              NULL|\n",
            "|  -114.31|   34.19|                15|       5612|          1283|      1015|       472|       1.4936|             66900|\n",
            "|  -114.47|    34.4|                19|       7650|          1901|      1129|       463|         1.82|             80100|\n",
            "|  -114.56|   33.69|                17|        720|           174|       333|       117|       1.6509|             85700|\n",
            "|  -114.57|   33.64|                14|       1501|           337|       515|       226|       3.1917|             73400|\n",
            "|  -114.57|   33.57|                20|       1454|           326|       624|       262|        1.925|             65500|\n",
            "|  -114.58|   33.63|                29|       1387|           236|       671|       239|       3.3438|             74000|\n",
            "|  -114.58|   33.61|                25|       2907|           680|      1841|       633|       2.6768|             82400|\n",
            "|  -114.59|   34.83|                41|        812|           168|       375|       158|       1.7083|             48500|\n",
            "|  -114.59|   33.61|                34|       4789|          1175|      3134|      1056|       2.1782|             58400|\n",
            "|   -114.6|   34.83|                46|       1497|           309|       787|       271|       2.1908|             48100|\n",
            "|   -114.6|   33.62|                16|       3741|           801|      2434|       824|       2.6797|             86500|\n",
            "|   -114.6|    33.6|                21|       1988|           483|      1182|       437|        1.625|             62000|\n",
            "|  -114.61|   34.84|                48|       1291|           248|       580|       211|       2.1571|             48600|\n",
            "|  -114.61|   34.83|                31|       2478|           464|      1346|       479|        3.212|             70400|\n",
            "|  -114.63|   32.76|                15|       1448|           378|       949|       300|       0.8585|             45000|\n",
            "|  -114.65|   34.89|                17|       2556|           587|      1005|       401|       1.6991|             69100|\n",
            "|  -114.65|    33.6|                28|       1678|           322|       666|       256|       2.9653|             94900|\n",
            "|  -114.65|   32.79|                21|         44|            33|        64|        27|       0.8571|             25000|\n",
            "|  -114.66|   32.74|                17|       1388|           386|       775|       320|       1.2049|             44000|\n",
            "+---------+--------+------------------+-----------+--------------+----------+----------+-------------+------------------+\n",
            "only showing top 20 rows\n",
            "\n"
          ]
        }
      ]
    },
    {
      "cell_type": "markdown",
      "source": [
        "\n",
        "1.   Using withColumn to perform 3 transformations\n",
        "2.   withCoulumnrenamed to rename a column\n",
        "3.   drop to drop a column\n",
        "4.   Using when otherwise\n",
        "5.   filtering data\n",
        "6.   Casting datatype\n",
        "\n",
        "\n",
        "\n"
      ],
      "metadata": {
        "id": "7dNAG1-treuB"
      }
    },
    {
      "cell_type": "code",
      "source": [
        "from pyspark.sql.functions import col, lit\n",
        "from pyspark.sql.functions import col, lit, when\n",
        "\n",
        "df_trans_val = df_cal\\\n",
        ".withColumn(\"loaded_dt\", lit(\"2025-03-01\"))\\\n",
        ".withColumn(\"population_in_K\", col(\"population\")/1000)\\\n",
        ".withColumn(\"hosuing_age\", when(col(\"housing_median_age\") <= 15 , lit(\"newer\")).otherwise(lit(\"older\")))\\\n",
        ".withColumnRenamed(\"longitude\", \"long\")\\\n",
        ".drop(\"latitude\")\\\n",
        ".filter(col(\"total_bedrooms\") >= 4)\\\n",
        ".withColumn(\"population\", col(\"population\").cast(\"decimal(15,0)\"))"
      ],
      "metadata": {
        "id": "Kow5AAryo57z"
      },
      "execution_count": null,
      "outputs": []
    },
    {
      "cell_type": "code",
      "source": [
        "df_trans_val.printSchema()"
      ],
      "metadata": {
        "colab": {
          "base_uri": "https://localhost:8080/"
        },
        "id": "9OMB8sSHtfVv",
        "outputId": "6da78301-cbf5-45cd-f163-3b889f9603e9"
      },
      "execution_count": null,
      "outputs": [
        {
          "output_type": "stream",
          "name": "stdout",
          "text": [
            "root\n",
            " |-- long: float (nullable = true)\n",
            " |-- housing_median_age: decimal(10,0) (nullable = true)\n",
            " |-- total_rooms: decimal(10,0) (nullable = true)\n",
            " |-- total_bedrooms: decimal(10,0) (nullable = true)\n",
            " |-- population: decimal(15,0) (nullable = true)\n",
            " |-- households: decimal(10,0) (nullable = true)\n",
            " |-- median_income: float (nullable = true)\n",
            " |-- median_house_value: decimal(10,0) (nullable = true)\n",
            " |-- loaded_dt: string (nullable = false)\n",
            " |-- population_in_K: decimal(16,6) (nullable = true)\n",
            " |-- hosuing_age: string (nullable = false)\n",
            "\n"
          ]
        }
      ]
    },
    {
      "cell_type": "markdown",
      "source": [
        "\n",
        "\n",
        "1.   Selecting cols from DF\n",
        "2.   Column Alias\n"
      ],
      "metadata": {
        "id": "HgddggdyxXRy"
      }
    },
    {
      "cell_type": "code",
      "source": [
        "df_trans_val.select(df_trans_val.housing_median_age, df_trans_val.population_in_K.alias(\"pop_in_k\")).show()"
      ],
      "metadata": {
        "colab": {
          "base_uri": "https://localhost:8080/"
        },
        "id": "hpWxJW7FxjFg",
        "outputId": "d368652a-88ff-4713-dc6b-4cb76ed23f89"
      },
      "execution_count": null,
      "outputs": [
        {
          "output_type": "stream",
          "name": "stdout",
          "text": [
            "+------------------+--------+\n",
            "|housing_median_age|pop_in_k|\n",
            "+------------------+--------+\n",
            "|                15|1.015000|\n",
            "|                19|1.129000|\n",
            "|                17|0.333000|\n",
            "|                14|0.515000|\n",
            "|                20|0.624000|\n",
            "|                29|0.671000|\n",
            "|                25|1.841000|\n",
            "|                41|0.375000|\n",
            "|                34|3.134000|\n",
            "|                46|0.787000|\n",
            "|                16|2.434000|\n",
            "|                21|1.182000|\n",
            "|                48|0.580000|\n",
            "|                31|1.346000|\n",
            "|                15|0.949000|\n",
            "|                17|1.005000|\n",
            "|                28|0.666000|\n",
            "|                21|0.064000|\n",
            "|                17|0.775000|\n",
            "|                17|0.029000|\n",
            "+------------------+--------+\n",
            "only showing top 20 rows\n",
            "\n"
          ]
        }
      ]
    },
    {
      "cell_type": "markdown",
      "source": [
        "**Row number in a DF**\n",
        "partition by housing_age order by housing_median_age\n",
        "\n",
        "https://sparkbyexamples.com/spark/spark-dataframe-how-to-select-the-first-row-of-each-group/"
      ],
      "metadata": {
        "id": "qyPQkpQ6wmTW"
      }
    },
    {
      "cell_type": "code",
      "source": [
        "from pyspark.sql.window import Window # Import the Window class\n",
        "from pyspark.sql.functions import row_number, rank, desc\n",
        "\n",
        "windowSpec = Window.partitionBy(\"hosuing_age\").orderBy(\"housing_median_age\")\n",
        "windowSpec2 = Window.partitionBy(\"hosuing_age\").orderBy(desc(\"median_house_value\"))\n",
        "\n",
        "df_fnl_val = df_trans_val.withColumn(\"row_num\", row_number().over(windowSpec))\\\n",
        ".withColumn(\"row_num\", row_number().over(windowSpec))\\\n",
        ".withColumn(\"rank\", rank().over(windowSpec2))\\\n",
        ".filter(col(\"row_num\") <= 10)\n"
      ],
      "metadata": {
        "id": "ZR0X1MKhwuvb"
      },
      "execution_count": null,
      "outputs": []
    },
    {
      "cell_type": "code",
      "source": [
        "df_fnl_val.count()"
      ],
      "metadata": {
        "colab": {
          "base_uri": "https://localhost:8080/"
        },
        "id": "A1UeJj6L0b1X",
        "outputId": "0aecbcad-03d9-46ea-ea83-d54db2c2b974"
      },
      "execution_count": null,
      "outputs": [
        {
          "output_type": "execute_result",
          "data": {
            "text/plain": [
              "20"
            ]
          },
          "metadata": {},
          "execution_count": 56
        }
      ]
    },
    {
      "cell_type": "markdown",
      "source": [
        "SORTING of DF"
      ],
      "metadata": {
        "id": "cG-fBwJ63eY6"
      }
    },
    {
      "cell_type": "code",
      "source": [
        "df_cal.show()"
      ],
      "metadata": {
        "colab": {
          "base_uri": "https://localhost:8080/"
        },
        "id": "BK5Am8wF4UeY",
        "outputId": "69e186b8-e585-42d3-fc9c-d7ffba7302f9"
      },
      "execution_count": null,
      "outputs": [
        {
          "output_type": "stream",
          "name": "stdout",
          "text": [
            "+---------+--------+------------------+-----------+--------------+----------+----------+-------------+------------------+\n",
            "|longitude|latitude|housing_median_age|total_rooms|total_bedrooms|population|households|median_income|median_house_value|\n",
            "+---------+--------+------------------+-----------+--------------+----------+----------+-------------+------------------+\n",
            "|     NULL|    NULL|              NULL|       NULL|          NULL|      NULL|      NULL|         NULL|              NULL|\n",
            "|  -114.31|   34.19|                15|       5612|          1283|      1015|       472|       1.4936|             66900|\n",
            "|  -114.47|    34.4|                19|       7650|          1901|      1129|       463|         1.82|             80100|\n",
            "|  -114.56|   33.69|                17|        720|           174|       333|       117|       1.6509|             85700|\n",
            "|  -114.57|   33.64|                14|       1501|           337|       515|       226|       3.1917|             73400|\n",
            "|  -114.57|   33.57|                20|       1454|           326|       624|       262|        1.925|             65500|\n",
            "|  -114.58|   33.63|                29|       1387|           236|       671|       239|       3.3438|             74000|\n",
            "|  -114.58|   33.61|                25|       2907|           680|      1841|       633|       2.6768|             82400|\n",
            "|  -114.59|   34.83|                41|        812|           168|       375|       158|       1.7083|             48500|\n",
            "|  -114.59|   33.61|                34|       4789|          1175|      3134|      1056|       2.1782|             58400|\n",
            "|   -114.6|   34.83|                46|       1497|           309|       787|       271|       2.1908|             48100|\n",
            "|   -114.6|   33.62|                16|       3741|           801|      2434|       824|       2.6797|             86500|\n",
            "|   -114.6|    33.6|                21|       1988|           483|      1182|       437|        1.625|             62000|\n",
            "|  -114.61|   34.84|                48|       1291|           248|       580|       211|       2.1571|             48600|\n",
            "|  -114.61|   34.83|                31|       2478|           464|      1346|       479|        3.212|             70400|\n",
            "|  -114.63|   32.76|                15|       1448|           378|       949|       300|       0.8585|             45000|\n",
            "|  -114.65|   34.89|                17|       2556|           587|      1005|       401|       1.6991|             69100|\n",
            "|  -114.65|    33.6|                28|       1678|           322|       666|       256|       2.9653|             94900|\n",
            "|  -114.65|   32.79|                21|         44|            33|        64|        27|       0.8571|             25000|\n",
            "|  -114.66|   32.74|                17|       1388|           386|       775|       320|       1.2049|             44000|\n",
            "+---------+--------+------------------+-----------+--------------+----------+----------+-------------+------------------+\n",
            "only showing top 20 rows\n",
            "\n"
          ]
        }
      ]
    },
    {
      "cell_type": "code",
      "source": [
        "from pyspark.sql.functions import asc, desc\n",
        "\n",
        "df_cal.sort(asc(\"total_bedrooms\"), desc(\"total_rooms\")).show()"
      ],
      "metadata": {
        "colab": {
          "base_uri": "https://localhost:8080/"
        },
        "id": "x4_eIoV03dKQ",
        "outputId": "3c5786bc-0ac8-4a07-f009-c3f2455688a6"
      },
      "execution_count": null,
      "outputs": [
        {
          "output_type": "stream",
          "name": "stdout",
          "text": [
            "+---------+--------+------------------+-----------+--------------+----------+----------+-------------+------------------+\n",
            "|longitude|latitude|housing_median_age|total_rooms|total_bedrooms|population|households|median_income|median_house_value|\n",
            "+---------+--------+------------------+-----------+--------------+----------+----------+-------------+------------------+\n",
            "|     NULL|    NULL|              NULL|       NULL|          NULL|      NULL|      NULL|         NULL|              NULL|\n",
            "|   -122.5|   37.79|                52|          8|             1|        13|         1|      15.0001|            500001|\n",
            "|  -117.79|   35.21|                 4|          2|             2|         6|         2|        2.375|            137500|\n",
            "|  -117.27|   34.17|                16|         30|             3|        49|         8|        4.625|            250000|\n",
            "|  -119.23|   34.25|                28|         26|             3|        29|         9|          8.0|            275000|\n",
            "|  -117.76|   35.22|                 4|         18|             3|         8|         6|        1.625|            275000|\n",
            "|  -122.37|    37.6|                26|         15|             3|        11|         3|        5.048|            350000|\n",
            "|   -122.0|    37.0|                16|         32|             4|        36|         5|        2.625|            137500|\n",
            "|  -122.14|    37.5|                46|         30|             4|        13|         5|      15.0001|            500001|\n",
            "|  -120.85|   37.75|                26|         28|             4|         9|         5|        1.625|             85000|\n",
            "|  -121.47|   38.51|                52|         20|             4|        74|         9|        3.625|             80000|\n",
            "|  -122.06|   37.39|                26|         18|             4|         8|         4|         3.75|            375000|\n",
            "|  -122.29|   37.81|                46|         12|             4|        18|         7|       0.4999|             67500|\n",
            "|  -121.96|   37.13|                26|         50|             5|        17|         4|      15.0001|            400000|\n",
            "|  -117.19|   32.75|                52|         25|             5|        13|         5|        0.536|            162500|\n",
            "|  -117.86|   33.67|                16|         20|             5|        15|         5|        3.875|            450000|\n",
            "|  -118.04|    33.9|                36|         15|             5|        15|         6|       0.4999|            162500|\n",
            "|  -118.22|   34.06|                52|         48|             6|        41|        10|      10.2264|            112500|\n",
            "|  -122.39|    38.0|                33|         44|             6|        23|        11|        4.125|            212500|\n",
            "|   -121.3|   37.94|                52|         24|             6|        23|         5|        2.375|             67500|\n",
            "+---------+--------+------------------+-----------+--------------+----------+----------+-------------+------------------+\n",
            "only showing top 20 rows\n",
            "\n"
          ]
        }
      ]
    },
    {
      "cell_type": "code",
      "source": [
        "from pyspark.sql.functions import col as coll, asc, desc\n",
        "\n",
        "df_cal.sort(col(\"total_bedrooms\").asc(), coll(\"total_rooms\").desc()).show()\n"
      ],
      "metadata": {
        "colab": {
          "base_uri": "https://localhost:8080/"
        },
        "id": "693X1ZAx44bT",
        "outputId": "d6a4de98-72be-4b19-c673-372110ee5409"
      },
      "execution_count": null,
      "outputs": [
        {
          "output_type": "stream",
          "name": "stdout",
          "text": [
            "+---------+--------+------------------+-----------+--------------+----------+----------+-------------+------------------+\n",
            "|longitude|latitude|housing_median_age|total_rooms|total_bedrooms|population|households|median_income|median_house_value|\n",
            "+---------+--------+------------------+-----------+--------------+----------+----------+-------------+------------------+\n",
            "|     NULL|    NULL|              NULL|       NULL|          NULL|      NULL|      NULL|         NULL|              NULL|\n",
            "|   -122.5|   37.79|                52|          8|             1|        13|         1|      15.0001|            500001|\n",
            "|  -117.79|   35.21|                 4|          2|             2|         6|         2|        2.375|            137500|\n",
            "|  -117.27|   34.17|                16|         30|             3|        49|         8|        4.625|            250000|\n",
            "|  -119.23|   34.25|                28|         26|             3|        29|         9|          8.0|            275000|\n",
            "|  -117.76|   35.22|                 4|         18|             3|         8|         6|        1.625|            275000|\n",
            "|  -122.37|    37.6|                26|         15|             3|        11|         3|        5.048|            350000|\n",
            "|   -122.0|    37.0|                16|         32|             4|        36|         5|        2.625|            137500|\n",
            "|  -122.14|    37.5|                46|         30|             4|        13|         5|      15.0001|            500001|\n",
            "|  -120.85|   37.75|                26|         28|             4|         9|         5|        1.625|             85000|\n",
            "|  -121.47|   38.51|                52|         20|             4|        74|         9|        3.625|             80000|\n",
            "|  -122.06|   37.39|                26|         18|             4|         8|         4|         3.75|            375000|\n",
            "|  -122.29|   37.81|                46|         12|             4|        18|         7|       0.4999|             67500|\n",
            "|  -121.96|   37.13|                26|         50|             5|        17|         4|      15.0001|            400000|\n",
            "|  -117.19|   32.75|                52|         25|             5|        13|         5|        0.536|            162500|\n",
            "|  -117.86|   33.67|                16|         20|             5|        15|         5|        3.875|            450000|\n",
            "|  -118.04|    33.9|                36|         15|             5|        15|         6|       0.4999|            162500|\n",
            "|  -118.22|   34.06|                52|         48|             6|        41|        10|      10.2264|            112500|\n",
            "|  -122.39|    38.0|                33|         44|             6|        23|        11|        4.125|            212500|\n",
            "|   -121.3|   37.94|                52|         24|             6|        23|         5|        2.375|             67500|\n",
            "+---------+--------+------------------+-----------+--------------+----------+----------+-------------+------------------+\n",
            "only showing top 20 rows\n",
            "\n"
          ]
        }
      ]
    },
    {
      "cell_type": "markdown",
      "source": [
        "**Union of DF**"
      ],
      "metadata": {
        "id": "AW2Dhl_L6YL2"
      }
    },
    {
      "cell_type": "code",
      "source": [
        "\n",
        "\n",
        "df_cal_1 = df_cal\n",
        "df_cal_2 = df_cal\n",
        "df_cal_3 = df_cal\n",
        "df_cal_1_2_3 = df_cal_1.union(df_cal_2).union(df_cal_3)\n",
        "print(df_cal_1_2_3.count())\n",
        "\n",
        "df_cal_1_2_3_dst = df_cal_1.union(df_cal_2).union(df_cal_3).distinct()\n",
        "print(df_cal_1_2_3_dst.count())"
      ],
      "metadata": {
        "colab": {
          "base_uri": "https://localhost:8080/"
        },
        "id": "zlIZKPpg6XLc",
        "outputId": "e518ecf6-1446-41fe-c545-cd1893d45ef8"
      },
      "execution_count": null,
      "outputs": [
        {
          "output_type": "stream",
          "name": "stdout",
          "text": [
            "51003\n",
            "17001\n"
          ]
        }
      ]
    },
    {
      "cell_type": "markdown",
      "source": [
        "**Getting common elements between 2 DF**"
      ],
      "metadata": {
        "id": "wL7Mmygi77lV"
      }
    },
    {
      "cell_type": "code",
      "source": [
        "intersected_df = df_cal_1.intersect(df_cal_2)\n",
        "intersected_df.count()"
      ],
      "metadata": {
        "colab": {
          "base_uri": "https://localhost:8080/"
        },
        "id": "1Hdp32RD7bcB",
        "outputId": "04ed0fc5-fdd9-448b-df5a-1c7f10364950"
      },
      "execution_count": null,
      "outputs": [
        {
          "output_type": "execute_result",
          "data": {
            "text/plain": [
              "17001"
            ]
          },
          "metadata": {},
          "execution_count": 74
        }
      ]
    },
    {
      "cell_type": "markdown",
      "source": [
        "**One DF minus the OTHER**"
      ],
      "metadata": {
        "id": "7zYXcMxv8L-k"
      }
    },
    {
      "cell_type": "code",
      "source": [
        "intersected_df = df_cal_1.subtract(df_cal_2)\n",
        "intersected_df.count()"
      ],
      "metadata": {
        "colab": {
          "base_uri": "https://localhost:8080/"
        },
        "id": "wGm5kOKH8DLu",
        "outputId": "6da5dc46-5416-4646-c44a-7d34c70cc64c"
      },
      "execution_count": null,
      "outputs": [
        {
          "output_type": "execute_result",
          "data": {
            "text/plain": [
              "0"
            ]
          },
          "metadata": {},
          "execution_count": 76
        }
      ]
    },
    {
      "cell_type": "markdown",
      "source": [
        "**Getting distinct values only**"
      ],
      "metadata": {
        "id": "DNPXgesA8cfp"
      }
    },
    {
      "cell_type": "code",
      "source": [
        "df_cal_1_dst = df_cal_1.distinct()\n",
        "df_cal_1_dst.count()"
      ],
      "metadata": {
        "colab": {
          "base_uri": "https://localhost:8080/"
        },
        "id": "-8t2oCEt8Z38",
        "outputId": "5a7428df-296f-4383-a552-f4a22a196bab"
      },
      "execution_count": null,
      "outputs": [
        {
          "output_type": "execute_result",
          "data": {
            "text/plain": [
              "17001"
            ]
          },
          "metadata": {},
          "execution_count": 79
        }
      ]
    },
    {
      "cell_type": "code",
      "source": [
        "from pyspark.sql.functions import col\n",
        "\n",
        "df_new = df_cal_1_dst.subtract\\\n",
        "(df_cal_1_dst.sort(col(\"housing_median_age\").asc()).filter(col(\"population\").isNull()))\n",
        "df_new.count()"
      ],
      "metadata": {
        "colab": {
          "base_uri": "https://localhost:8080/"
        },
        "id": "lTw4r-8x9Q1b",
        "outputId": "ec59bae9-870e-429e-dee1-e2568fea7d18"
      },
      "execution_count": null,
      "outputs": [
        {
          "output_type": "execute_result",
          "data": {
            "text/plain": [
              "17000"
            ]
          },
          "metadata": {},
          "execution_count": 90
        }
      ]
    },
    {
      "cell_type": "markdown",
      "source": [
        "**Dropping columns with null**"
      ],
      "metadata": {
        "id": "XJenOKLf-nhE"
      }
    },
    {
      "cell_type": "code",
      "source": [
        "from pyspark.sql.functions import col\n",
        "\n",
        "df_new.na.drop(\"any\").count()  # removes the whole row even if any one column is null\n",
        "df_new.na.drop(\"all\").count()  # removes the whole row if all one column is null\n",
        "\n",
        "df_new.na.drop(how=\"any\", subset=[\"housing_median_age\", \"total_rooms\"]).count()  # removes the whole row even if any one column is null in specified subset # removes the whole row even if any one column is null"
      ],
      "metadata": {
        "colab": {
          "base_uri": "https://localhost:8080/"
        },
        "id": "9gMajrV7-uQ0",
        "outputId": "ed7a7132-e70b-40e4-db89-0a466291c3e5"
      },
      "execution_count": null,
      "outputs": [
        {
          "output_type": "execute_result",
          "data": {
            "text/plain": [
              "17000"
            ]
          },
          "metadata": {},
          "execution_count": 97
        }
      ]
    }
  ]
}