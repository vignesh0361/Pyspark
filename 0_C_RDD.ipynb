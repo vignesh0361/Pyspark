{
  "nbformat": 4,
  "nbformat_minor": 0,
  "metadata": {
    "colab": {
      "provenance": [],
      "authorship_tag": "ABX9TyNe6ARHo8eaFC25jjQIOZVa",
      "include_colab_link": true
    },
    "kernelspec": {
      "name": "python3",
      "display_name": "Python 3"
    },
    "language_info": {
      "name": "python"
    }
  },
  "cells": [
    {
      "cell_type": "markdown",
      "metadata": {
        "id": "view-in-github",
        "colab_type": "text"
      },
      "source": [
        "<a href=\"https://colab.research.google.com/github/vignesh0361/Pyspark/blob/main/0_C_RDD.ipynb\" target=\"_parent\"><img src=\"https://colab.research.google.com/assets/colab-badge.svg\" alt=\"Open In Colab\"/></a>"
      ]
    },
    {
      "cell_type": "markdown",
      "source": [
        "**RDD**\n",
        "\n",
        "RDD (Resilient Distributed Dataset) is a fundamental data structure of Spark and it is the primary data abstraction in Apache Spark and the Spark Core. RDDs are fault-tolerant, immutable distributed collections of objects, which means once you create an RDD you cannot change it. Each dataset in RDD is divided into logical partitions, which can be computed on different nodes of the cluster.  "
      ],
      "metadata": {
        "id": "LF9_zkqGixk8"
      }
    },
    {
      "cell_type": "markdown",
      "source": [
        "**Creating a RDD**\n",
        "\n",
        "\n",
        "---\n",
        "A simple RDD can be created using **sparkContext.textFile()**\n",
        "\n",
        "Using textFile() method we can read a text (.txt) file from many sources like HDFS, S#, Azure, local e.t.c into RDD."
      ],
      "metadata": {
        "id": "67baM7kKjXnc"
      }
    },
    {
      "cell_type": "markdown",
      "source": [
        "**RDD Operations**\n",
        "\n",
        "\n",
        "---\n",
        "\n",
        "\n",
        "On Spark RDD, you can perform two kinds of operations.\n",
        "RDD Transformations\n",
        "\n",
        "**Spark RDD Transformations** are lazy operations meaning they don’t execute until you call an action on RDD. Since RDDs are immutable, When you run a transformation(for example map()), instead of updating a current RDD, it returns a new RDD.\n",
        "\n",
        "Some transformations on RDDs are flatMap(), map(), reduceByKey(), filter(), sortByKey() and all these return a new RDD instead of updating the current.\n",
        "RDD Actions\n",
        "\n",
        "\n",
        "---\n",
        "\n",
        "\n",
        "RDD Action operation returns the values from an RDD to a driver node. In other words, any RDD function that returns non RDD[T] is considered as an action. RDD operations trigger the computation and return RDD in a List to the driver program.\n",
        "\n",
        "Some actions on RDDs are count(),  collect(),  first(),  max(),  reduce()  and more."
      ],
      "metadata": {
        "id": "mHYdayMWjy8u"
      }
    },
    {
      "cell_type": "code",
      "execution_count": null,
      "metadata": {
        "id": "qktzO5tAitDL"
      },
      "outputs": [],
      "source": []
    }
  ]
}