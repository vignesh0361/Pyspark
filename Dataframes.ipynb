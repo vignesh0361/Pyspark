{
  "nbformat": 4,
  "nbformat_minor": 0,
  "metadata": {
    "colab": {
      "provenance": [],
      "authorship_tag": "ABX9TyNOQ3bSXtEW6lA1NU41zA1X",
      "include_colab_link": true
    },
    "kernelspec": {
      "name": "python3",
      "display_name": "Python 3"
    },
    "language_info": {
      "name": "python"
    }
  },
  "cells": [
    {
      "cell_type": "markdown",
      "metadata": {
        "id": "view-in-github",
        "colab_type": "text"
      },
      "source": [
        "<a href=\"https://colab.research.google.com/github/vignesh0361/Pyspark/blob/main/Dataframes.ipynb\" target=\"_parent\"><img src=\"https://colab.research.google.com/assets/colab-badge.svg\" alt=\"Open In Colab\"/></a>"
      ]
    },
    {
      "cell_type": "markdown",
      "source": [
        "**Creating a basic DF with some data**\n",
        "\n",
        "\n",
        "\n"
      ],
      "metadata": {
        "id": "tdEkJ8mJ3FBN"
      }
    },
    {
      "cell_type": "code",
      "execution_count": 21,
      "metadata": {
        "id": "a1n2i7aa0I4F"
      },
      "outputs": [],
      "source": [
        "from pyspark.sql import SparkSession\n",
        "spark = SparkSession.builder.getOrCreate()\n",
        "\n",
        "df = spark.createDataFrame(\n",
        "    [(14, \"Tom\"), (23, \"Alice\"), (16, \"Bob\")],\n",
        "     [\"age\", \"name\"]\n",
        "    )"
      ]
    },
    {
      "cell_type": "markdown",
      "source": [
        "**Selecting from dataframe**"
      ],
      "metadata": {
        "id": "9h2AoFHT4KNl"
      }
    },
    {
      "cell_type": "code",
      "source": [
        "df.select(df.name, df.age).show()"
      ],
      "metadata": {
        "colab": {
          "base_uri": "https://localhost:8080/"
        },
        "id": "gNrAEpfF3DU7",
        "outputId": "6cf96eda-9b77-41fc-ea87-270a45ee47cd"
      },
      "execution_count": 6,
      "outputs": [
        {
          "output_type": "stream",
          "name": "stdout",
          "text": [
            "+-----+---+\n",
            "| name|age|\n",
            "+-----+---+\n",
            "|  Tom| 14|\n",
            "|Alice| 23|\n",
            "|  Bob| 16|\n",
            "+-----+---+\n",
            "\n"
          ]
        }
      ]
    },
    {
      "cell_type": "markdown",
      "source": [
        "**Filtering from the DF**"
      ],
      "metadata": {
        "id": "ogAmBGdb4Uuf"
      }
    },
    {
      "cell_type": "code",
      "source": [
        "df.filter((df.age>15) & (df.name.contains(\"o\"))).show()"
      ],
      "metadata": {
        "colab": {
          "base_uri": "https://localhost:8080/"
        },
        "id": "chNjThk24XPy",
        "outputId": "3413b24c-a8af-4afd-c0c3-267814f6f9cd"
      },
      "execution_count": 8,
      "outputs": [
        {
          "output_type": "stream",
          "name": "stdout",
          "text": [
            "+---+----+\n",
            "|age|name|\n",
            "+---+----+\n",
            "| 16| Bob|\n",
            "+---+----+\n",
            "\n"
          ]
        }
      ]
    },
    {
      "cell_type": "markdown",
      "source": [
        "**Describing the DF**\n",
        "\n",
        "\n",
        "\n"
      ],
      "metadata": {
        "id": "3YCfvWo24wI6"
      }
    },
    {
      "cell_type": "code",
      "source": [
        "df.describe().show()"
      ],
      "metadata": {
        "colab": {
          "base_uri": "https://localhost:8080/"
        },
        "id": "adtVrqQT40lW",
        "outputId": "2c7af92d-29ea-4b95-8cc7-7c33969141a7"
      },
      "execution_count": 9,
      "outputs": [
        {
          "output_type": "stream",
          "name": "stdout",
          "text": [
            "+-------+------------------+-----+\n",
            "|summary|               age| name|\n",
            "+-------+------------------+-----+\n",
            "|  count|                 3|    3|\n",
            "|   mean|17.666666666666668| NULL|\n",
            "| stddev| 4.725815626252608| NULL|\n",
            "|    min|                14|Alice|\n",
            "|    max|                23|  Tom|\n",
            "+-------+------------------+-----+\n",
            "\n"
          ]
        }
      ]
    },
    {
      "cell_type": "markdown",
      "source": [
        "**Using withColumn to create a new column**\n"
      ],
      "metadata": {
        "id": "-XegDDds8L_3"
      }
    },
    {
      "cell_type": "code",
      "source": [
        "df.withColumn(\"age\",df.age+1).show()"
      ],
      "metadata": {
        "colab": {
          "base_uri": "https://localhost:8080/"
        },
        "id": "GVXITHQC5BSF",
        "outputId": "555da779-c9c3-44d5-802b-cae0e20d2435"
      },
      "execution_count": 12,
      "outputs": [
        {
          "output_type": "stream",
          "name": "stdout",
          "text": [
            "+---+-----+\n",
            "|age| name|\n",
            "+---+-----+\n",
            "| 15|  Tom|\n",
            "| 24|Alice|\n",
            "| 17|  Bob|\n",
            "+---+-----+\n",
            "\n"
          ]
        }
      ]
    },
    {
      "cell_type": "markdown",
      "source": [
        "**Using withColumn to create a new column**\n"
      ],
      "metadata": {
        "id": "kzDHIjGJ8S7h"
      }
    },
    {
      "cell_type": "code",
      "source": [
        "from pyspark.sql.functions import when\n",
        "df.withColumn(\"type\", when(df.age <= 15, \"kid\").otherwise(\"adult\")).show()"
      ],
      "metadata": {
        "colab": {
          "base_uri": "https://localhost:8080/"
        },
        "id": "Q8f_VB0j8ZNr",
        "outputId": "13ee46e7-9d3d-478f-9c17-500fbd47e278"
      },
      "execution_count": 14,
      "outputs": [
        {
          "output_type": "stream",
          "name": "stdout",
          "text": [
            "+---+-----+-----+\n",
            "|age| name| type|\n",
            "+---+-----+-----+\n",
            "| 14|  Tom|  kid|\n",
            "| 23|Alice|adult|\n",
            "| 16|  Bob|adult|\n",
            "+---+-----+-----+\n",
            "\n"
          ]
        }
      ]
    },
    {
      "cell_type": "code",
      "source": [
        "people = spark.createDataFrame([\n",
        "    {\"deptId\": 1, \"age\": 40, \"name\": \"Hyukjin Kwon\", \"gender\": \"M\", \"salary\": 50},\n",
        "    {\"deptId\": 1, \"age\": 50, \"name\": \"Takuya Ueshin\", \"gender\": \"M\", \"salary\": 100},\n",
        "    {\"deptId\": 2, \"age\": 60, \"name\": \"Xinrong Meng\", \"gender\": \"F\", \"salary\": 150},\n",
        "    {\"deptId\": 3, \"age\": 20, \"name\": \"Haejoon Lee\", \"gender\": \"M\", \"salary\": 200}\n",
        "])"
      ],
      "metadata": {
        "id": "L81to5FiCmsy"
      },
      "execution_count": 15,
      "outputs": []
    },
    {
      "cell_type": "code",
      "source": [
        "display(people)"
      ],
      "metadata": {
        "colab": {
          "base_uri": "https://localhost:8080/",
          "height": 35
        },
        "id": "GesIue7mCqDV",
        "outputId": "e51465ab-1f93-44d1-bf66-dbef4cd53813"
      },
      "execution_count": 16,
      "outputs": [
        {
          "output_type": "display_data",
          "data": {
            "text/plain": [
              "DataFrame[age: bigint, deptId: bigint, gender: string, name: string, salary: bigint]"
            ]
          },
          "metadata": {}
        }
      ]
    },
    {
      "cell_type": "code",
      "source": [
        "people.show()"
      ],
      "metadata": {
        "colab": {
          "base_uri": "https://localhost:8080/"
        },
        "id": "gxvvYW0gC1Fi",
        "outputId": "fedd876e-9fa9-46b8-8340-9f177ffb6b92"
      },
      "execution_count": 17,
      "outputs": [
        {
          "output_type": "stream",
          "name": "stdout",
          "text": [
            "+---+------+------+-------------+------+\n",
            "|age|deptId|gender|         name|salary|\n",
            "+---+------+------+-------------+------+\n",
            "| 40|     1|     M| Hyukjin Kwon|    50|\n",
            "| 50|     1|     M|Takuya Ueshin|   100|\n",
            "| 60|     2|     F| Xinrong Meng|   150|\n",
            "| 20|     3|     M|  Haejoon Lee|   200|\n",
            "+---+------+------+-------------+------+\n",
            "\n"
          ]
        }
      ]
    }
  ]
}