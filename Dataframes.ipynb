{
  "nbformat": 4,
  "nbformat_minor": 0,
  "metadata": {
    "colab": {
      "provenance": [],
      "authorship_tag": "ABX9TyPZoC+XQ1StpQO+g5yz19K7",
      "include_colab_link": true
    },
    "kernelspec": {
      "name": "python3",
      "display_name": "Python 3"
    },
    "language_info": {
      "name": "python"
    }
  },
  "cells": [
    {
      "cell_type": "markdown",
      "metadata": {
        "id": "view-in-github",
        "colab_type": "text"
      },
      "source": [
        "<a href=\"https://colab.research.google.com/github/vignesh0361/Pyspark/blob/main/Dataframes.ipynb\" target=\"_parent\"><img src=\"https://colab.research.google.com/assets/colab-badge.svg\" alt=\"Open In Colab\"/></a>"
      ]
    },
    {
      "cell_type": "markdown",
      "source": [
        "**Creating a basic DF with some data**\n",
        "\n",
        "\n",
        "\n"
      ],
      "metadata": {
        "id": "tdEkJ8mJ3FBN"
      }
    },
    {
      "cell_type": "code",
      "execution_count": 4,
      "metadata": {
        "id": "a1n2i7aa0I4F"
      },
      "outputs": [],
      "source": [
        "from pyspark.sql import SparkSession\n",
        "spark = SparkSession.builder.getOrCreate()\n",
        "\n",
        "df = spark.createDataFrame(\n",
        "    [(14, \"Tom\"), (23, \"Alice\"), (16, \"Bob\")], [\"age\", \"name\"])\n"
      ]
    },
    {
      "cell_type": "markdown",
      "source": [
        "**Selecting from dataframe**"
      ],
      "metadata": {
        "id": "9h2AoFHT4KNl"
      }
    },
    {
      "cell_type": "code",
      "source": [
        "df.select(df.name, df.age).show()"
      ],
      "metadata": {
        "colab": {
          "base_uri": "https://localhost:8080/"
        },
        "id": "gNrAEpfF3DU7",
        "outputId": "6cf96eda-9b77-41fc-ea87-270a45ee47cd"
      },
      "execution_count": 6,
      "outputs": [
        {
          "output_type": "stream",
          "name": "stdout",
          "text": [
            "+-----+---+\n",
            "| name|age|\n",
            "+-----+---+\n",
            "|  Tom| 14|\n",
            "|Alice| 23|\n",
            "|  Bob| 16|\n",
            "+-----+---+\n",
            "\n"
          ]
        }
      ]
    },
    {
      "cell_type": "markdown",
      "source": [
        "**Filtering from the DF**"
      ],
      "metadata": {
        "id": "ogAmBGdb4Uuf"
      }
    },
    {
      "cell_type": "code",
      "source": [
        "df.filter((df.age>15) & (df.name.contains(\"o\"))).show()"
      ],
      "metadata": {
        "colab": {
          "base_uri": "https://localhost:8080/"
        },
        "id": "chNjThk24XPy",
        "outputId": "3413b24c-a8af-4afd-c0c3-267814f6f9cd"
      },
      "execution_count": 8,
      "outputs": [
        {
          "output_type": "stream",
          "name": "stdout",
          "text": [
            "+---+----+\n",
            "|age|name|\n",
            "+---+----+\n",
            "| 16| Bob|\n",
            "+---+----+\n",
            "\n"
          ]
        }
      ]
    },
    {
      "cell_type": "markdown",
      "source": [
        "**Describing the DF**\n",
        "\n",
        "\n",
        "\n"
      ],
      "metadata": {
        "id": "3YCfvWo24wI6"
      }
    },
    {
      "cell_type": "code",
      "source": [
        "df.describe().show()"
      ],
      "metadata": {
        "colab": {
          "base_uri": "https://localhost:8080/"
        },
        "id": "adtVrqQT40lW",
        "outputId": "2c7af92d-29ea-4b95-8cc7-7c33969141a7"
      },
      "execution_count": 9,
      "outputs": [
        {
          "output_type": "stream",
          "name": "stdout",
          "text": [
            "+-------+------------------+-----+\n",
            "|summary|               age| name|\n",
            "+-------+------------------+-----+\n",
            "|  count|                 3|    3|\n",
            "|   mean|17.666666666666668| NULL|\n",
            "| stddev| 4.725815626252608| NULL|\n",
            "|    min|                14|Alice|\n",
            "|    max|                23|  Tom|\n",
            "+-------+------------------+-----+\n",
            "\n"
          ]
        }
      ]
    },
    {
      "cell_type": "code",
      "source": [],
      "metadata": {
        "id": "GVXITHQC5BSF"
      },
      "execution_count": null,
      "outputs": []
    }
  ]
}