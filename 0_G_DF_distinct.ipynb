{
  "nbformat": 4,
  "nbformat_minor": 0,
  "metadata": {
    "colab": {
      "provenance": [],
      "authorship_tag": "ABX9TyP0kqsWtD9IMe8sdHA0O/92",
      "include_colab_link": true
    },
    "kernelspec": {
      "name": "python3",
      "display_name": "Python 3"
    },
    "language_info": {
      "name": "python"
    }
  },
  "cells": [
    {
      "cell_type": "markdown",
      "metadata": {
        "id": "view-in-github",
        "colab_type": "text"
      },
      "source": [
        "<a href=\"https://colab.research.google.com/github/vignesh0361/Pyspark/blob/main/0_G_DF_distinct.ipynb\" target=\"_parent\"><img src=\"https://colab.research.google.com/assets/colab-badge.svg\" alt=\"Open In Colab\"/></a>"
      ]
    },
    {
      "cell_type": "code",
      "execution_count": 4,
      "metadata": {
        "collapsed": true,
        "id": "GEsxbCQIKI5i"
      },
      "outputs": [],
      "source": [
        "from pyspark.sql import SparkSession\n",
        "spark = SparkSession.builder.getOrCreate()\n",
        "\n",
        "sample_df = spark.createDataFrame([\n",
        "    (\"New Orleans\", \"Louisisna\", \"USA\"),\n",
        "    (\"New York City\", \"New York\", \"USA\"),\n",
        "    (\"Baton Rouge\", \"Louisisna\", \"USA\"),\n",
        "    (\"Coimbatore\", \"Tamil Nadu\", \"India\"),\n",
        "    (\"Ooty\", \"Tamil Nadu\", \"India\"),\n",
        "    (\"New Orleans\", \"Louisisna\", \"USA\")\n",
        "    ], [\"City\", \"State\", \"Country\"])"
      ]
    },
    {
      "cell_type": "markdown",
      "source": [
        "Always use distinct for the complete DF"
      ],
      "metadata": {
        "id": "k_tuScgANxiz"
      }
    },
    {
      "cell_type": "code",
      "source": [
        "sample_df_dst2 = sample_df.distinct()\n",
        "sample_df_dst2.show()\n",
        "\n"
      ],
      "metadata": {
        "colab": {
          "base_uri": "https://localhost:8080/"
        },
        "id": "RK2KWxJ9LvjB",
        "outputId": "6ffb6bec-234b-4569-b3c3-7635a8693d89"
      },
      "execution_count": 11,
      "outputs": [
        {
          "output_type": "stream",
          "name": "stdout",
          "text": [
            "+-------------+----------+-------+\n",
            "|         City|     State|Country|\n",
            "+-------------+----------+-------+\n",
            "|  Baton Rouge| Louisisna|    USA|\n",
            "|New York City|  New York|    USA|\n",
            "|  New Orleans| Louisisna|    USA|\n",
            "|         Ooty|Tamil Nadu|  India|\n",
            "|   Coimbatore|Tamil Nadu|  India|\n",
            "+-------------+----------+-------+\n",
            "\n"
          ]
        }
      ]
    },
    {
      "cell_type": "code",
      "source": [
        "from pyspark.sql.functions import col\n",
        "\n",
        "sample_df_dst = sample_df.dropDuplicates([\"Country\"])\n",
        "sample_df_dst.show()\n",
        "sample_df_dst.select(col(\"country\")).show()"
      ],
      "metadata": {
        "colab": {
          "base_uri": "https://localhost:8080/"
        },
        "id": "491YQC59McUH",
        "outputId": "747d3976-606d-4c02-e726-8e933c1ed935"
      },
      "execution_count": 17,
      "outputs": [
        {
          "output_type": "stream",
          "name": "stdout",
          "text": [
            "+-----------+----------+-------+\n",
            "|       City|     State|Country|\n",
            "+-----------+----------+-------+\n",
            "| Coimbatore|Tamil Nadu|  India|\n",
            "|New Orleans| Louisisna|    USA|\n",
            "+-----------+----------+-------+\n",
            "\n",
            "+-------+\n",
            "|country|\n",
            "+-------+\n",
            "|    USA|\n",
            "|  India|\n",
            "+-------+\n",
            "\n"
          ]
        }
      ]
    }
  ]
}