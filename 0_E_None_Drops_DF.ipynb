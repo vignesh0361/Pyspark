{
  "nbformat": 4,
  "nbformat_minor": 0,
  "metadata": {
    "colab": {
      "provenance": [],
      "authorship_tag": "ABX9TyNs8J89qkU6tqQgRBKE7IZI",
      "include_colab_link": true
    },
    "kernelspec": {
      "name": "python3",
      "display_name": "Python 3"
    },
    "language_info": {
      "name": "python"
    }
  },
  "cells": [
    {
      "cell_type": "markdown",
      "metadata": {
        "id": "view-in-github",
        "colab_type": "text"
      },
      "source": [
        "<a href=\"https://colab.research.google.com/github/vignesh0361/Pyspark/blob/main/0_E_None_Drops_DF.ipynb\" target=\"_parent\"><img src=\"https://colab.research.google.com/assets/colab-badge.svg\" alt=\"Open In Colab\"/></a>"
      ]
    },
    {
      "cell_type": "code",
      "execution_count": 2,
      "metadata": {
        "colab": {
          "base_uri": "https://localhost:8080/"
        },
        "id": "4pmBo14bBz2g",
        "outputId": "c8fa8670-3c26-41a6-89ed-5e8ade62950f"
      },
      "outputs": [
        {
          "output_type": "stream",
          "name": "stdout",
          "text": [
            "<pyspark.sql.session.SparkSession object at 0x7f08c5631290>\n"
          ]
        }
      ],
      "source": [
        "from pyspark.sql import SparkSession\n",
        "spark = SparkSession.builder.getOrCreate()\n",
        "print(spark)"
      ]
    },
    {
      "cell_type": "code",
      "source": [
        "df = spark.createDataFrame([('Vigneshkumar', 'Rajagopal', 'Canton', 'USA', 'Yahoo'),\\\n",
        " ('Viyan', 'Vigneshkumar', 'Canton', 'USA', 'Yahoo'), \\\n",
        "                            ('Shivyan', 'Vigneshkumar', 'Canton', None, 'Yahoo'),\\\n",
        "                            ('Saranya', 'Vigneshkumar', 'Canton', 'USA', None)], [\"name\", \"Lname\", \"City\", \"Country\", \"Domain\"])"
      ],
      "metadata": {
        "id": "BF24ZkRXCaeH"
      },
      "execution_count": 13,
      "outputs": []
    },
    {
      "cell_type": "code",
      "source": [
        "df.show()"
      ],
      "metadata": {
        "colab": {
          "base_uri": "https://localhost:8080/"
        },
        "id": "TdIqXRwpCadG",
        "outputId": "fb85bce4-30ac-4b6a-bee4-57f58b9e1db1"
      },
      "execution_count": 14,
      "outputs": [
        {
          "output_type": "stream",
          "name": "stdout",
          "text": [
            "+------------+------------+------+-------+------+\n",
            "|        name|       Lname|  City|Country|Domain|\n",
            "+------------+------------+------+-------+------+\n",
            "|Vigneshkumar|   Rajagopal|Canton|    USA| Yahoo|\n",
            "|       Viyan|Vigneshkumar|Canton|    USA| Yahoo|\n",
            "|     Shivyan|Vigneshkumar|Canton|   NULL| Yahoo|\n",
            "|     Saranya|Vigneshkumar|Canton|    USA|  NULL|\n",
            "+------------+------------+------+-------+------+\n",
            "\n"
          ]
        }
      ]
    },
    {
      "cell_type": "code",
      "source": [
        "df.na.drop(\"any\").show()"
      ],
      "metadata": {
        "colab": {
          "base_uri": "https://localhost:8080/"
        },
        "id": "6_rMVMZIDoiX",
        "outputId": "392e6ded-e7e6-44cf-996e-8f0eaaa3e526"
      },
      "execution_count": 16,
      "outputs": [
        {
          "output_type": "stream",
          "name": "stdout",
          "text": [
            "+------------+------------+------+-------+------+\n",
            "|        name|       Lname|  City|Country|Domain|\n",
            "+------------+------------+------+-------+------+\n",
            "|Vigneshkumar|   Rajagopal|Canton|    USA| Yahoo|\n",
            "|       Viyan|Vigneshkumar|Canton|    USA| Yahoo|\n",
            "+------------+------------+------+-------+------+\n",
            "\n"
          ]
        }
      ]
    },
    {
      "cell_type": "code",
      "source": [
        "df.na.drop(\"all\").show()"
      ],
      "metadata": {
        "colab": {
          "base_uri": "https://localhost:8080/"
        },
        "id": "YHJdFie5EKVE",
        "outputId": "02b9b99e-0dc5-4e85-cc48-4d8d5b57568b"
      },
      "execution_count": 18,
      "outputs": [
        {
          "output_type": "stream",
          "name": "stdout",
          "text": [
            "+------------+------------+------+-------+------+\n",
            "|        name|       Lname|  City|Country|Domain|\n",
            "+------------+------------+------+-------+------+\n",
            "|Vigneshkumar|   Rajagopal|Canton|    USA| Yahoo|\n",
            "|       Viyan|Vigneshkumar|Canton|    USA| Yahoo|\n",
            "|     Shivyan|Vigneshkumar|Canton|   NULL| Yahoo|\n",
            "|     Saranya|Vigneshkumar|Canton|    USA|  NULL|\n",
            "+------------+------------+------+-------+------+\n",
            "\n"
          ]
        }
      ]
    }
  ]
}