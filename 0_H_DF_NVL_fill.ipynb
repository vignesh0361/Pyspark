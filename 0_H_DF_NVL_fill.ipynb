{
  "nbformat": 4,
  "nbformat_minor": 0,
  "metadata": {
    "colab": {
      "provenance": [],
      "authorship_tag": "ABX9TyOaPszqRfFwhNSn4lYxmFKf",
      "include_colab_link": true
    },
    "kernelspec": {
      "name": "python3",
      "display_name": "Python 3"
    },
    "language_info": {
      "name": "python"
    }
  },
  "cells": [
    {
      "cell_type": "markdown",
      "metadata": {
        "id": "view-in-github",
        "colab_type": "text"
      },
      "source": [
        "<a href=\"https://colab.research.google.com/github/vignesh0361/Pyspark/blob/main/0_H_DF_NVL_fill.ipynb\" target=\"_parent\"><img src=\"https://colab.research.google.com/assets/colab-badge.svg\" alt=\"Open In Colab\"/></a>"
      ]
    },
    {
      "cell_type": "code",
      "execution_count": 5,
      "metadata": {
        "id": "-8Ycfu8MPnTa"
      },
      "outputs": [],
      "source": [
        "from pyspark.sql import SparkSession\n",
        "spark = SparkSession.builder.getOrCreate()\n",
        "\n",
        "sample_df = spark.createDataFrame([\n",
        "    (1, \"New Orleans\", \"Louisisna\", \"USA\", \"Fav city\"),\n",
        "    (2, \"New York City\", None, None, None),\n",
        "    (3, \"Baton Rouge\", \"Louisisna\", \"USA\", \"Heart\"),\n",
        "    (4, \"Coimbatore\", \"Tamil Nadu\", None, \"Mind\"),\n",
        "    (5, \"Ooty\", \"Tamil Nadu\", \"India\", \"Soul\"),\n",
        "    (None, \"New Orleans\", \"Louisisna\", \"USA\", None)\n",
        "    ], [\"ID\", \"City\", \"State\", \"Country\", \"Comments\"])"
      ]
    },
    {
      "cell_type": "code",
      "source": [
        "sample_df.na.fill(6).show() # Replaces all number nulls with 6"
      ],
      "metadata": {
        "colab": {
          "base_uri": "https://localhost:8080/"
        },
        "id": "vOquKYsxP5LM",
        "outputId": "79e33afb-551f-4534-a3b7-296a55f4033e"
      },
      "execution_count": 6,
      "outputs": [
        {
          "output_type": "stream",
          "name": "stdout",
          "text": [
            "+---+-------------+----------+-------+--------+\n",
            "| ID|         City|     State|Country|Comments|\n",
            "+---+-------------+----------+-------+--------+\n",
            "|  1|  New Orleans| Louisisna|    USA|Fav city|\n",
            "|  2|New York City|      NULL|   NULL|    NULL|\n",
            "|  3|  Baton Rouge| Louisisna|    USA|   Heart|\n",
            "|  4|   Coimbatore|Tamil Nadu|   NULL|    Mind|\n",
            "|  5|         Ooty|Tamil Nadu|  India|    Soul|\n",
            "|  6|  New Orleans| Louisisna|    USA|    NULL|\n",
            "+---+-------------+----------+-------+--------+\n",
            "\n"
          ]
        }
      ]
    },
    {
      "cell_type": "code",
      "source": [
        "sample_df.na.fill(\"unknown\").show() # Replaces all Str nulls with 6"
      ],
      "metadata": {
        "colab": {
          "base_uri": "https://localhost:8080/"
        },
        "id": "hWHz30ypRMme",
        "outputId": "fdbc4a96-b93e-4987-ac45-944f487cc891"
      },
      "execution_count": 7,
      "outputs": [
        {
          "output_type": "stream",
          "name": "stdout",
          "text": [
            "+----+-------------+----------+-------+--------+\n",
            "|  ID|         City|     State|Country|Comments|\n",
            "+----+-------------+----------+-------+--------+\n",
            "|   1|  New Orleans| Louisisna|    USA|Fav city|\n",
            "|   2|New York City|   unknown|unknown| unknown|\n",
            "|   3|  Baton Rouge| Louisisna|    USA|   Heart|\n",
            "|   4|   Coimbatore|Tamil Nadu|unknown|    Mind|\n",
            "|   5|         Ooty|Tamil Nadu|  India|    Soul|\n",
            "|NULL|  New Orleans| Louisisna|    USA| unknown|\n",
            "+----+-------------+----------+-------+--------+\n",
            "\n"
          ]
        }
      ]
    },
    {
      "cell_type": "code",
      "source": [
        "# Replace nulls with specific values for different columns/data types\n",
        "filled_df = sample_df.na.fill(value=6,subset=[\"ID\"]) \\\n",
        "                     .na.fill(value=\"unknown\", subset=[\"City\", \"State\", \"Country\", \"Comments\"])\n",
        "\n",
        "# Show the DataFrame with replaced null values\n",
        "filled_df.show()\n"
      ],
      "metadata": {
        "colab": {
          "base_uri": "https://localhost:8080/"
        },
        "id": "BQaRcW5BRRNn",
        "outputId": "90d36aa7-eec1-4513-e455-e375aaa46b2b"
      },
      "execution_count": 10,
      "outputs": [
        {
          "output_type": "stream",
          "name": "stdout",
          "text": [
            "+---+-------------+----------+-------+--------+\n",
            "| ID|         City|     State|Country|Comments|\n",
            "+---+-------------+----------+-------+--------+\n",
            "|  1|  New Orleans| Louisisna|    USA|Fav city|\n",
            "|  2|New York City|   unknown|unknown| unknown|\n",
            "|  3|  Baton Rouge| Louisisna|    USA|   Heart|\n",
            "|  4|   Coimbatore|Tamil Nadu|unknown|    Mind|\n",
            "|  5|         Ooty|Tamil Nadu|  India|    Soul|\n",
            "|  6|  New Orleans| Louisisna|    USA| unknown|\n",
            "+---+-------------+----------+-------+--------+\n",
            "\n"
          ]
        }
      ]
    }
  ]
}